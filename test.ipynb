{
 "cells": [
  {
   "cell_type": "markdown",
   "id": "a7677557",
   "metadata": {},
   "source": [
    "Hello World"
   ]
  },
  {
   "cell_type": "code",
   "execution_count": null,
   "id": "31b9cf47",
   "metadata": {},
   "outputs": [],
   "source": [
    "\n",
    "        import altair as alt\n",
    "        import pandas as pd\n",
    "        import ipywidgets as widgets\n",
    "\n",
    "        source = pd.DataFrame({\n",
    "            'a': ['A', 'B', 'C', 'D', 'E', 'F', 'G', 'H', 'I'],\n",
    "            'b': [28, 55, 43, 91, 81, 53, 19, 87, 52]\n",
    "        })\n",
    "\n",
    "        alt.Chart(source).mark_bar().encode(\n",
    "            x='a',\n",
    "            y='b'\n",
    "        )\n",
    "    "
   ]
  },
  {
   "cell_type": "code",
   "execution_count": null,
   "id": "81a477e1",
   "metadata": {},
   "outputs": [],
   "source": [
    "\n",
    "        # creating button \n",
    "        widgets.Button(description='My Button')\n",
    "    "
   ]
  }
 ],
 "metadata": {},
 "nbformat": 4,
 "nbformat_minor": 5
}
