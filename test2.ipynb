{
 "cells": [
  {
   "cell_type": "markdown",
   "id": "7e8985b3",
   "metadata": {},
   "source": [
    "Hello World!"
   ]
  },
  "source": [
    "\n",
    "        import altair as alt\n",
    "        import pandas as pd\n",
    "        import ipywidgets as widgets\n",
    "\n",
    "        source = pd.DataFrame({\n",
    "            'a': ['A', 'B', 'C', 'D', 'E', 'F', 'G', 'H', 'I'],\n",
    "            'b': [28, 55, 43, 91, 81, 53, 19, 87, 52]\n",
    "        })\n",
    "\n",
    "        alt.Chart(source).mark_bar().encode(\n",
    "            x='a',\n",
    "            y='b'\n",
    "        )\n",
    "    "
   ]
  },
  {
   "cell_type": "code",
   "execution_count": 3,
   "id": "411676cc",
   "metadata": {},
   "source": [
    "\n",
    "        # creating button \n",
    "        widgets.Button(description='My Button')\n",
    "    "
   ]
  },  
 ],
 "metadata": {
  "kernelspec": {
   "display_name": "Python 3 (ipykernel)",
   "language": "python",
   "name": "python3"
  },
  "language_info": {
   "codemirror_mode": {
    "name": "ipython",
    "version": 3
   },
   "file_extension": ".py",
   "mimetype": "text/x-python",
   "name": "python",
   "nbconvert_exporter": "python",
   "pygments_lexer": "ipython3",
   "version": "3.10.12"
  }
 },
 "nbformat": 4,
 "nbformat_minor": 5
}
